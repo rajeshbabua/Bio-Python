{
  "nbformat": 4,
  "nbformat_minor": 0,
  "metadata": {
    "colab": {
      "name": "bio-ml.ipynb",
      "version": "0.3.2",
      "provenance": [],
      "include_colab_link": true
    },
    "kernelspec": {
      "name": "python3",
      "display_name": "Python 3"
    },
    "accelerator": "GPU"
  },
  "cells": [
    {
      "cell_type": "markdown",
      "metadata": {
        "id": "view-in-github",
        "colab_type": "text"
      },
      "source": [
        "[View in Colaboratory](https://colab.research.google.com/github/rajeshbabua/Bio-Python/blob/master/bio_ba.ipynb)"
      ]
    },
    {
      "metadata": {
        "id": "3CbFkwaVDgHZ",
        "colab_type": "code",
        "colab": {}
      },
      "cell_type": "code",
      "source": [
        ""
      ],
      "execution_count": 0,
      "outputs": []
    },
    {
      "metadata": {
        "id": "-ULcjwlyDgpq",
        "colab_type": "text"
      },
      "cell_type": "markdown",
      "source": [
        "**Installing  Biopython**\n",
        "\n",
        "---\n",
        "\n"
      ]
    },
    {
      "metadata": {
        "id": "Q9M97yuezTVk",
        "colab_type": "code",
        "colab": {
          "base_uri": "https://localhost:8080/",
          "height": 141
        },
        "outputId": "7c38cb74-81de-46ee-8439-0ee5c2655328"
      },
      "cell_type": "code",
      "source": [
        "!pip install Biopython"
      ],
      "execution_count": 3,
      "outputs": [
        {
          "output_type": "stream",
          "text": [
            "Collecting Biopython\n",
            "\u001b[?25l  Downloading https://files.pythonhosted.org/packages/64/1a/ee21f05bd9d5e215bee7204f4d0280a8de0323ac1c51aa5a911b2436de9f/biopython-1.72-cp36-cp36m-manylinux1_x86_64.whl (2.1MB)\n",
            "\r\u001b[K    0% |▏                               | 10kB 18.7MB/s eta 0:00:01\r\u001b[K    0% |▎                               | 20kB 4.2MB/s eta 0:00:01\r\u001b[K    1% |▌                               | 30kB 6.0MB/s eta 0:00:01\r\u001b[K    1% |▋                               | 40kB 3.9MB/s eta 0:00:01\r\u001b[K    2% |▉                               | 51kB 4.8MB/s eta 0:00:01\r\u001b[K    2% |█                               | 61kB 5.6MB/s eta 0:00:01\r\u001b[K    3% |█                               | 71kB 6.3MB/s eta 0:00:01\r\u001b[K    3% |█▎                              | 81kB 7.1MB/s eta 0:00:01\r\u001b[K    4% |█▍                              | 92kB 7.8MB/s eta 0:00:01\r\u001b[K    4% |█▋                              | 102kB 6.4MB/s eta 0:00:01\r\u001b[K    5% |█▊                              | 112kB 6.5MB/s eta 0:00:01\r\u001b[K    5% |██                              | 122kB 8.7MB/s eta 0:00:01\r\u001b[K    6% |██                              | 133kB 8.6MB/s eta 0:00:01\r\u001b[K    6% |██▏                             | 143kB 15.1MB/s eta 0:00:01\r\u001b[K    7% |██▍                             | 153kB 15.1MB/s eta 0:00:01\r\u001b[K    7% |██▌                             | 163kB 15.1MB/s eta 0:00:01\r\u001b[K    8% |██▊                             | 174kB 15.3MB/s eta 0:00:01\r\u001b[K    8% |██▉                             | 184kB 15.5MB/s eta 0:00:01\r\u001b[K    9% |███                             | 194kB 15.5MB/s eta 0:00:01\r\u001b[K    9% |███▏                            | 204kB 38.5MB/s eta 0:00:01\r\u001b[K    10% |███▎                            | 215kB 19.2MB/s eta 0:00:01\r\u001b[K    10% |███▌                            | 225kB 19.2MB/s eta 0:00:01\r\u001b[K    11% |███▋                            | 235kB 19.5MB/s eta 0:00:01\r\u001b[K    11% |███▉                            | 245kB 19.9MB/s eta 0:00:01\r\u001b[K    12% |████                            | 256kB 20.0MB/s eta 0:00:01\r\u001b[K    12% |████                            | 266kB 18.9MB/s eta 0:00:01\r\u001b[K    13% |████▎                           | 276kB 19.3MB/s eta 0:00:01\r\u001b[K    13% |████▍                           | 286kB 19.2MB/s eta 0:00:01\r\u001b[K    14% |████▋                           | 296kB 19.2MB/s eta 0:00:01\r\u001b[K    14% |████▊                           | 307kB 19.8MB/s eta 0:00:01\r\u001b[K    15% |█████                           | 317kB 43.4MB/s eta 0:00:01\r\u001b[K    15% |█████                           | 327kB 43.8MB/s eta 0:00:01\r\u001b[K    16% |█████▏                          | 337kB 44.2MB/s eta 0:00:01\r\u001b[K    16% |█████▍                          | 348kB 40.3MB/s eta 0:00:01\r\u001b[K    17% |█████▌                          | 358kB 41.0MB/s eta 0:00:01\r\u001b[K    17% |█████▊                          | 368kB 46.5MB/s eta 0:00:01\r\u001b[K    18% |█████▉                          | 378kB 45.6MB/s eta 0:00:01\r\u001b[K    18% |██████                          | 389kB 46.5MB/s eta 0:00:01\r\u001b[K    19% |██████▏                         | 399kB 46.7MB/s eta 0:00:01\r\u001b[K    19% |██████▎                         | 409kB 46.4MB/s eta 0:00:01\r\u001b[K    20% |██████▌                         | 419kB 46.7MB/s eta 0:00:01\r\u001b[K    20% |██████▋                         | 430kB 34.1MB/s eta 0:00:01\r\u001b[K    21% |██████▉                         | 440kB 32.6MB/s eta 0:00:01\r\u001b[K    21% |███████                         | 450kB 33.8MB/s eta 0:00:01\r\u001b[K    22% |███████                         | 460kB 33.4MB/s eta 0:00:01\r\u001b[K    22% |███████▎                        | 471kB 33.7MB/s eta 0:00:01\r\u001b[K    23% |███████▍                        | 481kB 33.9MB/s eta 0:00:01\r\u001b[K    23% |███████▋                        | 491kB 33.6MB/s eta 0:00:01\r\u001b[K    24% |███████▊                        | 501kB 33.7MB/s eta 0:00:01\r\u001b[K    24% |████████                        | 512kB 32.2MB/s eta 0:00:01\r\u001b[K    25% |████████                        | 522kB 32.2MB/s eta 0:00:01\r\u001b[K    25% |████████▏                       | 532kB 44.3MB/s eta 0:00:01\r\u001b[K    26% |████████▍                       | 542kB 47.2MB/s eta 0:00:01\r\u001b[K    26% |████████▌                       | 552kB 50.7MB/s eta 0:00:01\r\u001b[K    27% |████████▊                       | 563kB 50.7MB/s eta 0:00:01\r\u001b[K    27% |████████▉                       | 573kB 48.5MB/s eta 0:00:01\r\u001b[K    28% |█████████                       | 583kB 48.9MB/s eta 0:00:01\r\u001b[K    28% |█████████▏                      | 593kB 49.0MB/s eta 0:00:01\r\u001b[K    29% |█████████▎                      | 604kB 49.1MB/s eta 0:00:01\r\u001b[K    29% |█████████▌                      | 614kB 52.5MB/s eta 0:00:01\r\u001b[K    30% |█████████▋                      | 624kB 51.4MB/s eta 0:00:01\r\u001b[K    30% |█████████▉                      | 634kB 51.8MB/s eta 0:00:01\r\u001b[K    31% |██████████                      | 645kB 51.6MB/s eta 0:00:01\r\u001b[K    31% |██████████                      | 655kB 51.0MB/s eta 0:00:01\r\u001b[K    32% |██████████▎                     | 665kB 39.8MB/s eta 0:00:01\r\u001b[K    32% |██████████▍                     | 675kB 38.4MB/s eta 0:00:01\r\u001b[K    33% |██████████▋                     | 686kB 37.8MB/s eta 0:00:01\r\u001b[K    33% |██████████▊                     | 696kB 36.6MB/s eta 0:00:01\r\u001b[K    34% |██████████▉                     | 706kB 36.1MB/s eta 0:00:01\r\u001b[K    34% |███████████                     | 716kB 36.3MB/s eta 0:00:01\r\u001b[K    35% |███████████▏                    | 727kB 36.4MB/s eta 0:00:01\r\u001b[K    35% |███████████▍                    | 737kB 35.7MB/s eta 0:00:01\r\u001b[K    35% |███████████▌                    | 747kB 35.9MB/s eta 0:00:01\r\u001b[K    36% |███████████▊                    | 757kB 35.9MB/s eta 0:00:01\r\u001b[K    36% |███████████▉                    | 768kB 45.3MB/s eta 0:00:01\r\u001b[K    37% |████████████                    | 778kB 48.5MB/s eta 0:00:01\r\u001b[K    37% |████████████▏                   | 788kB 48.8MB/s eta 0:00:01\r\u001b[K    38% |████████████▎                   | 798kB 51.2MB/s eta 0:00:01\r\u001b[K    38% |████████████▌                   | 808kB 51.9MB/s eta 0:00:01\r\u001b[K    39% |████████████▋                   | 819kB 51.9MB/s eta 0:00:01\r\u001b[K    39% |████████████▉                   | 829kB 52.5MB/s eta 0:00:01\r\u001b[K    40% |█████████████                   | 839kB 53.4MB/s eta 0:00:01\r\u001b[K    40% |█████████████                   | 849kB 52.8MB/s eta 0:00:01\r\u001b[K    41% |█████████████▎                  | 860kB 48.9MB/s eta 0:00:01\r\u001b[K    41% |█████████████▍                  | 870kB 48.6MB/s eta 0:00:01\r\u001b[K    42% |█████████████▋                  | 880kB 49.4MB/s eta 0:00:01\r\u001b[K    42% |█████████████▊                  | 890kB 49.9MB/s eta 0:00:01\r\u001b[K    43% |█████████████▉                  | 901kB 49.6MB/s eta 0:00:01\r\u001b[K    43% |██████████████                  | 911kB 49.8MB/s eta 0:00:01\r\u001b[K    44% |██████████████▏                 | 921kB 49.2MB/s eta 0:00:01\r\u001b[K    44% |██████████████▍                 | 931kB 49.5MB/s eta 0:00:01\r\u001b[K    45% |██████████████▌                 | 942kB 46.5MB/s eta 0:00:01\r\u001b[K    45% |██████████████▊                 | 952kB 44.3MB/s eta 0:00:01\r\u001b[K    46% |██████████████▉                 | 962kB 45.4MB/s eta 0:00:01\r\u001b[K    46% |███████████████                 | 972kB 43.9MB/s eta 0:00:01\r\u001b[K    47% |███████████████▏                | 983kB 43.5MB/s eta 0:00:01\r\u001b[K    47% |███████████████▎                | 993kB 44.2MB/s eta 0:00:01\r\u001b[K    48% |███████████████▌                | 1.0MB 44.4MB/s eta 0:00:01\r\u001b[K    48% |███████████████▋                | 1.0MB 44.4MB/s eta 0:00:01\r\u001b[K    49% |███████████████▉                | 1.0MB 44.9MB/s eta 0:00:01\r\u001b[K    49% |████████████████                | 1.0MB 43.3MB/s eta 0:00:01\r\u001b[K    50% |████████████████                | 1.0MB 46.7MB/s eta 0:00:01\r\u001b[K    50% |████████████████▎               | 1.1MB 49.5MB/s eta 0:00:01\r\u001b[K    51% |████████████████▍               | 1.1MB 51.8MB/s eta 0:00:01\r\u001b[K    51% |████████████████▋               | 1.1MB 54.5MB/s eta 0:00:01\r\u001b[K    52% |████████████████▊               | 1.1MB 53.9MB/s eta 0:00:01\r\u001b[K    52% |████████████████▉               | 1.1MB 47.3MB/s eta 0:00:01\r\u001b[K    53% |█████████████████               | 1.1MB 47.2MB/s eta 0:00:01\r\u001b[K    53% |█████████████████▏              | 1.1MB 47.0MB/s eta 0:00:01\r\u001b[K    54% |█████████████████▍              | 1.1MB 46.8MB/s eta 0:00:01\r\u001b[K    54% |█████████████████▌              | 1.1MB 48.2MB/s eta 0:00:01\r\u001b[K    55% |█████████████████▊              | 1.1MB 47.2MB/s eta 0:00:01\r\u001b[K    55% |█████████████████▉              | 1.2MB 46.4MB/s eta 0:00:01\r\u001b[K    56% |██████████████████              | 1.2MB 46.5MB/s eta 0:00:01\r\u001b[K    56% |██████████████████▏             | 1.2MB 46.0MB/s eta 0:00:01\r\u001b[K    57% |██████████████████▎             | 1.2MB 46.6MB/s eta 0:00:01\r\u001b[K    57% |██████████████████▌             | 1.2MB 50.5MB/s eta 0:00:01\r\u001b[K    58% |██████████████████▋             | 1.2MB 48.9MB/s eta 0:00:01\r\u001b[K    58% |██████████████████▊             | 1.2MB 45.7MB/s eta 0:00:01\r\u001b[K    59% |███████████████████             | 1.2MB 45.5MB/s eta 0:00:01\r\u001b[K    59% |███████████████████             | 1.2MB 45.9MB/s eta 0:00:01\r\u001b[K    60% |███████████████████▎            | 1.2MB 45.9MB/s eta 0:00:01\r\u001b[K    60% |███████████████████▍            | 1.3MB 46.8MB/s eta 0:00:01\r\u001b[K    61% |███████████████████▋            | 1.3MB 46.2MB/s eta 0:00:01\r\u001b[K    61% |███████████████████▊            | 1.3MB 45.3MB/s eta 0:00:01\r\u001b[K    62% |███████████████████▉            | 1.3MB 45.3MB/s eta 0:00:01\r\u001b[K    62% |████████████████████            | 1.3MB 46.3MB/s eta 0:00:01\r\u001b[K    63% |████████████████████▏           | 1.3MB 47.3MB/s eta 0:00:01\r\u001b[K    63% |████████████████████▍           | 1.3MB 50.8MB/s eta 0:00:01\r\u001b[K    64% |████████████████████▌           | 1.3MB 51.0MB/s eta 0:00:01\r\u001b[K    64% |████████████████████▊           | 1.3MB 50.3MB/s eta 0:00:01\r\u001b[K    65% |████████████████████▉           | 1.4MB 49.2MB/s eta 0:00:01\r\u001b[K    65% |█████████████████████           | 1.4MB 47.9MB/s eta 0:00:01\r\u001b[K    66% |█████████████████████▏          | 1.4MB 49.2MB/s eta 0:00:01\r\u001b[K    66% |█████████████████████▎          | 1.4MB 50.5MB/s eta 0:00:01\r\u001b[K    67% |█████████████████████▌          | 1.4MB 50.2MB/s eta 0:00:01\r\u001b[K    67% |█████████████████████▋          | 1.4MB 34.2MB/s eta 0:00:01\r\u001b[K    68% |█████████████████████▊          | 1.4MB 34.2MB/s eta 0:00:01\r\u001b[K    68% |██████████████████████          | 1.4MB 34.2MB/s eta 0:00:01\r\u001b[K    69% |██████████████████████          | 1.4MB 34.3MB/s eta 0:00:01\r\u001b[K    69% |██████████████████████▎         | 1.4MB 34.3MB/s eta 0:00:01\r\u001b[K    70% |██████████████████████▍         | 1.5MB 34.9MB/s eta 0:00:01\r\u001b[K    70% |██████████████████████▋         | 1.5MB 34.7MB/s eta 0:00:01\r\u001b[K    71% |██████████████████████▊         | 1.5MB 34.4MB/s eta 0:00:01\r\u001b[K    71% |██████████████████████▉         | 1.5MB 34.5MB/s eta 0:00:01\r\u001b[K    71% |███████████████████████         | 1.5MB 34.5MB/s eta 0:00:01\r\u001b[K    72% |███████████████████████▏        | 1.5MB 51.6MB/s eta 0:00:01\r\u001b[K    72% |███████████████████████▍        | 1.5MB 51.8MB/s eta 0:00:01\r\u001b[K    73% |███████████████████████▌        | 1.5MB 51.0MB/s eta 0:00:01\r\u001b[K    73% |███████████████████████▊        | 1.5MB 51.6MB/s eta 0:00:01\r\u001b[K    74% |███████████████████████▉        | 1.5MB 51.9MB/s eta 0:00:01\r\u001b[K    74% |████████████████████████        | 1.6MB 51.6MB/s eta 0:00:01\r\u001b[K    75% |████████████████████████▏       | 1.6MB 53.3MB/s eta 0:00:01\r\u001b[K    75% |████████████████████████▎       | 1.6MB 51.9MB/s eta 0:00:01\r\u001b[K    76% |████████████████████████▌       | 1.6MB 44.2MB/s eta 0:00:01\r\u001b[K    76% |████████████████████████▋       | 1.6MB 44.3MB/s eta 0:00:01\r\u001b[K    77% |████████████████████████▊       | 1.6MB 43.8MB/s eta 0:00:01\r\u001b[K    77% |█████████████████████████       | 1.6MB 44.5MB/s eta 0:00:01\r\u001b[K    78% |█████████████████████████       | 1.6MB 45.2MB/s eta 0:00:01\r\u001b[K    78% |█████████████████████████▎      | 1.6MB 44.6MB/s eta 0:00:01\r\u001b[K    79% |█████████████████████████▍      | 1.6MB 44.3MB/s eta 0:00:01\r\u001b[K    79% |█████████████████████████▋      | 1.7MB 43.3MB/s eta 0:00:01\r\u001b[K    80% |█████████████████████████▊      | 1.7MB 43.6MB/s eta 0:00:01\r\u001b[K    80% |█████████████████████████▉      | 1.7MB 45.0MB/s eta 0:00:01\r\u001b[K    81% |██████████████████████████      | 1.7MB 52.5MB/s eta 0:00:01\r\u001b[K    81% |██████████████████████████▏     | 1.7MB 52.9MB/s eta 0:00:01\r\u001b[K    82% |██████████████████████████▍     | 1.7MB 52.8MB/s eta 0:00:01\r\u001b[K    82% |██████████████████████████▌     | 1.7MB 51.2MB/s eta 0:00:01\r\u001b[K    83% |██████████████████████████▋     | 1.7MB 51.6MB/s eta 0:00:01\r\u001b[K    83% |██████████████████████████▉     | 1.7MB 52.0MB/s eta 0:00:01\r\u001b[K    84% |███████████████████████████     | 1.8MB 52.9MB/s eta 0:00:01\r\u001b[K    84% |███████████████████████████▏    | 1.8MB 54.5MB/s eta 0:00:01\r\u001b[K    85% |███████████████████████████▎    | 1.8MB 53.4MB/s eta 0:00:01\r\u001b[K    85% |███████████████████████████▌    | 1.8MB 53.0MB/s eta 0:00:01\r\u001b[K    86% |███████████████████████████▋    | 1.8MB 51.9MB/s eta 0:00:01\r\u001b[K    86% |███████████████████████████▊    | 1.8MB 51.1MB/s eta 0:00:01\r\u001b[K    87% |████████████████████████████    | 1.8MB 52.0MB/s eta 0:00:01\r\u001b[K    87% |████████████████████████████    | 1.8MB 52.9MB/s eta 0:00:01\r\u001b[K    88% |████████████████████████████▎   | 1.8MB 52.8MB/s eta 0:00:01\r\u001b[K    88% |████████████████████████████▍   | 1.8MB 52.6MB/s eta 0:00:01\r\u001b[K    89% |████████████████████████████▋   | 1.9MB 332kB/s eta 0:00:01\r\u001b[K    89% |████████████████████████████▊   | 1.9MB 332kB/s eta 0:00:01\r\u001b[K    90% |████████████████████████████▉   | 1.9MB 331kB/s eta 0:00:01\r\u001b[K    90% |█████████████████████████████   | 1.9MB 331kB/s eta 0:00:01\r\u001b[K    91% |█████████████████████████████▏  | 1.9MB 331kB/s eta 0:00:01\r\u001b[K    91% |█████████████████████████████▍  | 1.9MB 331kB/s eta 0:00:01\r\u001b[K    92% |█████████████████████████████▌  | 1.9MB 331kB/s eta 0:00:01\r\u001b[K    92% |█████████████████████████████▋  | 1.9MB 331kB/s eta 0:00:01\r\u001b[K    93% |█████████████████████████████▉  | 1.9MB 331kB/s eta 0:00:01\r\u001b[K    93% |██████████████████████████████  | 1.9MB 331kB/s eta 0:00:01\r\u001b[K    94% |██████████████████████████████▏ | 2.0MB 34.5MB/s eta 0:00:01\r\u001b[K    94% |██████████████████████████████▎ | 2.0MB 34.7MB/s eta 0:00:01\r\u001b[K    95% |██████████████████████████████▌ | 2.0MB 35.0MB/s eta 0:00:01\r\u001b[K    95% |██████████████████████████████▋ | 2.0MB 35.4MB/s eta 0:00:01\r\u001b[K    96% |██████████████████████████████▊ | 2.0MB 35.3MB/s eta 0:00:01\r\u001b[K    96% |███████████████████████████████ | 2.0MB 35.4MB/s eta 0:00:01\r\u001b[K    97% |███████████████████████████████ | 2.0MB 25.3MB/s eta 0:00:01\r\u001b[K    97% |███████████████████████████████▎| 2.0MB 25.7MB/s eta 0:00:01\r\u001b[K    98% |███████████████████████████████▍| 2.0MB 26.2MB/s eta 0:00:01\r\u001b[K    98% |███████████████████████████████▋| 2.0MB 26.5MB/s eta 0:00:01\r\u001b[K    99% |███████████████████████████████▊| 2.1MB 27.5MB/s eta 0:00:01\r\u001b[K    99% |███████████████████████████████▉| 2.1MB 27.7MB/s eta 0:00:01\r\u001b[K    100% |████████████████████████████████| 2.1MB 10.4MB/s \n",
            "\u001b[?25hRequirement already satisfied: numpy in /usr/local/lib/python3.6/dist-packages (from Biopython) (1.14.6)\n",
            "Installing collected packages: Biopython\n",
            "Successfully installed Biopython-1.72\n"
          ],
          "name": "stdout"
        }
      ]
    },
    {
      "metadata": {
        "id": "QtnMakSwDvPq",
        "colab_type": "text"
      },
      "cell_type": "markdown",
      "source": [
        "**Converting, Complement and reverse complement of sequence.**\n",
        "**If you dont specify object type like iupac unambiguous dna the sequence is treated as string**"
      ]
    },
    {
      "metadata": {
        "id": "Fcr9YOIpzgXA",
        "colab_type": "code",
        "colab": {
          "base_uri": "https://localhost:8080/",
          "height": 69
        },
        "outputId": "9560d068-abcc-468e-a03a-9de9fb841767"
      },
      "cell_type": "code",
      "source": [
        "import Bio\n",
        "from Bio.Seq import Seq\n",
        "from Bio.Alphabet import IUPAC\n",
        "se = Seq(\"atcgactaccgtta\", IUPAC.unambiguous_dna)\n",
        "se.upper(),se.complement(),se.reverse_complement()"
      ],
      "execution_count": 54,
      "outputs": [
        {
          "output_type": "execute_result",
          "data": {
            "text/plain": [
              "(Seq('ATCGACTACCGTTA', IUPACUnambiguousDNA()),\n",
              " Seq('tagctgatggcaat', IUPACUnambiguousDNA()),\n",
              " Seq('taacggtagtcgat', IUPACUnambiguousDNA()))"
            ]
          },
          "metadata": {
            "tags": []
          },
          "execution_count": 54
        }
      ]
    },
    {
      "metadata": {
        "id": "QaYYfDy90-iG",
        "colab_type": "code",
        "colab": {
          "base_uri": "https://localhost:8080/",
          "height": 34
        },
        "outputId": "4baebbd7-d580-4b64-be63-a4da5756f9ec"
      },
      "cell_type": "code",
      "source": [
        "print (Bio.__version__)"
      ],
      "execution_count": 5,
      "outputs": [
        {
          "output_type": "stream",
          "text": [
            "1.72\n"
          ],
          "name": "stdout"
        }
      ]
    },
    {
      "metadata": {
        "id": "cjN0_jOZEjjs",
        "colab_type": "text"
      },
      "cell_type": "markdown",
      "source": [
        "**Count GC content (in this case gc!=cg)**"
      ]
    },
    {
      "metadata": {
        "id": "Jtf16v2s1MSq",
        "colab_type": "code",
        "colab": {
          "base_uri": "https://localhost:8080/",
          "height": 52
        },
        "outputId": "6a06c935-f946-41b9-8594-fa6389e45583"
      },
      "cell_type": "code",
      "source": [
        "from Bio import SeqIO\n",
        "from Bio.Alphabet import IUPAC\n",
        "d = Seq(\"aatgatagatcgtctgatcgatcgatcag\", IUPAC.unambiguous_dna)\n",
        "p = Seq(\"atcgctacgtcagtacgtatcgtagtca\",IUPAC.protein)\n",
        "d,p\n",
        "\n",
        "for i,l in enumerate(d):\n",
        "  print(i,l)\n",
        "print(len(d))\n",
        "d[-1]\n",
        "d.count('g')\n",
        "100*float(d.count('g')+d.count('c'))/len(d)\n",
        "d.count('cg')\n",
        "\n",
        "d[4:12]"
      ],
      "execution_count": 42,
      "outputs": [
        {
          "output_type": "stream",
          "text": [
            "29\n"
          ],
          "name": "stdout"
        },
        {
          "output_type": "execute_result",
          "data": {
            "text/plain": [
              "Seq('atagatcg', IUPACUnambiguousDNA())"
            ]
          },
          "metadata": {
            "tags": []
          },
          "execution_count": 42
        }
      ]
    },
    {
      "metadata": {
        "id": "eH9ClcQTE1AK",
        "colab_type": "text"
      },
      "cell_type": "markdown",
      "source": [
        "**Concatenation of sequences, only simialr object types can be concatenated**"
      ]
    },
    {
      "metadata": {
        "id": "-wifVyR1-HUp",
        "colab_type": "code",
        "colab": {
          "base_uri": "https://localhost:8080/",
          "height": 69
        },
        "outputId": "01cb173b-e53c-4631-c14e-0b0473fa23b5"
      },
      "cell_type": "code",
      "source": [
        "from Bio.Seq import Seq\n",
        "from Bio.Alphabet import IUPAC\n",
        "from Bio.Alphabet import generic_nucleotide\n",
        "ns =Seq(\"aagatcgactgactagctacgatc\", generic_nucleotide)\n",
        "ds = Seq(\"agtgataacagcatcgatcagcgatac\", IUPAC.unambiguous_dna)\n",
        "ns,ds,ds+ns"
      ],
      "execution_count": 47,
      "outputs": [
        {
          "output_type": "execute_result",
          "data": {
            "text/plain": [
              "(Seq('aagatcgactgactagctacgatc', NucleotideAlphabet()),\n",
              " Seq('agtgataacagcatcgatcagcgatac', IUPACUnambiguousDNA()),\n",
              " Seq('agtgataacagcatcgatcagcgatacaagatcgactgactagctacgatc', NucleotideAlphabet()))"
            ]
          },
          "metadata": {
            "tags": []
          },
          "execution_count": 47
        }
      ]
    },
    {
      "metadata": {
        "id": "XnsXYx9uFEDs",
        "colab_type": "text"
      },
      "cell_type": "markdown",
      "source": [
        "**SeqUtils Class in Bio helps to calculate GC content easily(in this case gc=cg)**"
      ]
    },
    {
      "metadata": {
        "id": "aM8PRL4z9nQ5",
        "colab_type": "code",
        "colab": {
          "base_uri": "https://localhost:8080/",
          "height": 34
        },
        "outputId": "1034b5a7-f3af-4778-8d4e-78bee2f43b7e"
      },
      "cell_type": "code",
      "source": [
        "from Bio.SeqUtils import GC\n",
        "GC(d)\n",
        "GC(p)"
      ],
      "execution_count": 41,
      "outputs": [
        {
          "output_type": "execute_result",
          "data": {
            "text/plain": [
              "46.42857142857143"
            ]
          },
          "metadata": {
            "tags": []
          },
          "execution_count": 41
        }
      ]
    },
    {
      "metadata": {
        "id": "s0pqd_9g-_RQ",
        "colab_type": "code",
        "colab": {
          "base_uri": "https://localhost:8080/",
          "height": 34
        },
        "outputId": "803b8cf0-0870-4406-b243-efe42e457a41"
      },
      "cell_type": "code",
      "source": [
        "from Bio.Alphabet import generic_dna\n",
        "ds = Seq(\"atagacagatcAATGCTAGCATC\", generic_dna)\n",
        "ds.upper()"
      ],
      "execution_count": 51,
      "outputs": [
        {
          "output_type": "execute_result",
          "data": {
            "text/plain": [
              "Seq('ATAGACAGATCAATGCTAGCATC', DNAAlphabet())"
            ]
          },
          "metadata": {
            "tags": []
          },
          "execution_count": 51
        }
      ]
    },
    {
      "metadata": {
        "id": "8BXCFnzPFdAr",
        "colab_type": "text"
      },
      "cell_type": "markdown",
      "source": [
        "**Transcription and Translation **"
      ]
    },
    {
      "metadata": {
        "id": "5dmcRf6x_nei",
        "colab_type": "code",
        "colab": {
          "base_uri": "https://localhost:8080/",
          "height": 52
        },
        "outputId": "5730d87e-08a5-4b33-9609-0defd54b52b6"
      },
      "cell_type": "code",
      "source": [
        "from Bio.Seq import Seq\n",
        "from Bio.Alphabet import IUPAC\n",
        "cd= Seq(\"AATAGATAGTCTACGACTAGCTAGCAT\", IUPAC.unambiguous_dna)\n",
        "temp=cd.reverse_complement()\n",
        "mrna= cd.transcribe()\n",
        "mrna\n",
        "mrna1=temp.reverse_complement().transcribe()\n",
        "mrna.translate()\n",
        "mrna1.translate(to_stop=True), mrna1.translate()"
      ],
      "execution_count": 66,
      "outputs": [
        {
          "output_type": "execute_result",
          "data": {
            "text/plain": [
              "(Seq('NR', IUPACProtein()),\n",
              " Seq('NR*STTS*H', HasStopCodon(IUPACProtein(), '*')))"
            ]
          },
          "metadata": {
            "tags": []
          },
          "execution_count": 66
        }
      ]
    },
    {
      "metadata": {
        "id": "QQ3V0K9GFoKj",
        "colab_type": "text"
      },
      "cell_type": "markdown",
      "source": [
        "**Fetching data from Database**"
      ]
    },
    {
      "metadata": {
        "id": "EDhiAUp4B1i7",
        "colab_type": "code",
        "colab": {
          "base_uri": "https://localhost:8080/",
          "height": 54
        },
        "outputId": "c30c2eaf-149f-42fe-be8c-cf029fa219c0"
      },
      "cell_type": "code",
      "source": [
        "import urllib\n",
        "from urllib import request\n",
        "from Bio import Entrez\n",
        "Entrez.email=\"rajeshaarya.787@gmail.com\"\n",
        "h = Entrez.efetch(db=\"nucleotide\", id=\"186972394\", rettype=\"gb\", retmode=\"fasta\")\n",
        "h.read()\n"
      ],
      "execution_count": 70,
      "outputs": [
        {
          "output_type": "execute_result",
          "data": {
            "text/plain": [
              "'LOCUS       EU490707                1302 bp    DNA     linear   PLN 26-JUL-2016\\nDEFINITION  Selenipedium aequinoctiale maturase K (matK) gene, partial cds;\\n            chloroplast.\\nACCESSION   EU490707\\nVERSION     EU490707.1\\nKEYWORDS    .\\nSOURCE      chloroplast Selenipedium aequinoctiale\\n  ORGANISM  Selenipedium aequinoctiale\\n            Eukaryota; Viridiplantae; Streptophyta; Embryophyta; Tracheophyta;\\n            Spermatophyta; Magnoliophyta; Liliopsida; Asparagales; Orchidaceae;\\n            Cypripedioideae; Selenipedium.\\nREFERENCE   1  (bases 1 to 1302)\\n  AUTHORS   Neubig,K.M., Whitten,W.M., Carlsward,B.S., Blanco,M.A., Endara,L.,\\n            Williams,N.H. and Moore,M.\\n  TITLE     Phylogenetic utility of ycf1 in orchids: a plastid gene more\\n            variable than matK\\n  JOURNAL   Plant Syst. Evol. 277 (1-2), 75-84 (2009)\\nREFERENCE   2  (bases 1 to 1302)\\n  AUTHORS   Neubig,K.M., Whitten,W.M., Carlsward,B.S., Blanco,M.A.,\\n            Endara,C.L., Williams,N.H. and Moore,M.J.\\n  TITLE     Direct Submission\\n  JOURNAL   Submitted (14-FEB-2008) Department of Botany, University of\\n            Florida, 220 Bartram Hall, Gainesville, FL 32611-8526, USA\\nFEATURES             Location/Qualifiers\\n     source          1..1302\\n                     /organism=\"Selenipedium aequinoctiale\"\\n                     /organelle=\"plastid:chloroplast\"\\n                     /mol_type=\"genomic DNA\"\\n                     /specimen_voucher=\"FLAS:Blanco 2475\"\\n                     /db_xref=\"taxon:256374\"\\n     gene            <1..>1302\\n                     /gene=\"matK\"\\n     CDS             <1..>1302\\n                     /gene=\"matK\"\\n                     /codon_start=1\\n                     /transl_table=11\\n                     /product=\"maturase K\"\\n                     /protein_id=\"ACC99456.1\"\\n                     /translation=\"IFYEPVEIFGYDNKSSLVLVKRLITRMYQQNFLISSVNDSNQKG\\n                     FWGHKHFFSSHFSSQMVSEGFGVILEIPFSSQLVSSLEEKKIPKYQNLRSIHSIFPFL\\n                     EDKFLHLNYVSDLLIPHPIHLEILVQILQCRIKDVPSLHLLRLLFHEYHNLNSLITSK\\n                     KFIYAFSKRKKRFLWLLYNSYVYECEYLFQFLRKQSSYLRSTSSGVFLERTHLYVKIE\\n                     HLLVVCCNSFQRILCFLKDPFMHYVRYQGKAILASKGTLILMKKWKFHLVNFWQSYFH\\n                     FWSQPYRIHIKQLSNYSFSFLGYFSSVLENHLVVRNQMLENSFIINLLTKKFDTIAPV\\n                     ISLIGSLSKAQFCTVLGHPISKPIWTDFSDSDILDRFCRICRNLCRYHSGSSKKQVLY\\n                     RIKYILRLSCARTLARKHKSTVRTFMRRLGSGLLEEFFMEEE\"\\nORIGIN      \\n        1 attttttacg aacctgtgga aatttttggt tatgacaata aatctagttt agtacttgtg\\n       61 aaacgtttaa ttactcgaat gtatcaacag aattttttga tttcttcggt taatgattct\\n      121 aaccaaaaag gattttgggg gcacaagcat tttttttctt ctcatttttc ttctcaaatg\\n      181 gtatcagaag gttttggagt cattctggaa attccattct cgtcgcaatt agtatcttct\\n      241 cttgaagaaa aaaaaatacc aaaatatcag aatttacgat ctattcattc aatatttccc\\n      301 tttttagaag acaaattttt acatttgaat tatgtgtcag atctactaat accccatccc\\n      361 atccatctgg aaatcttggt tcaaatcctt caatgccgga tcaaggatgt tccttctttg\\n      421 catttattgc gattgctttt ccacgaatat cataatttga atagtctcat tacttcaaag\\n      481 aaattcattt acgccttttc aaaaagaaag aaaagattcc tttggttact atataattct\\n      541 tatgtatatg aatgcgaata tctattccag tttcttcgta aacagtcttc ttatttacga\\n      601 tcaacatctt ctggagtctt tcttgagcga acacatttat atgtaaaaat agaacatctt\\n      661 ctagtagtgt gttgtaattc ttttcagagg atcctatgct ttctcaagga tcctttcatg\\n      721 cattatgttc gatatcaagg aaaagcaatt ctggcttcaa agggaactct tattctgatg\\n      781 aagaaatgga aatttcatct tgtgaatttt tggcaatctt attttcactt ttggtctcaa\\n      841 ccgtatagga ttcatataaa gcaattatcc aactattcct tctcttttct ggggtatttt\\n      901 tcaagtgtac tagaaaatca tttggtagta agaaatcaaa tgctagagaa ttcatttata\\n      961 ataaatcttc tgactaagaa attcgatacc atagccccag ttatttctct tattggatca\\n     1021 ttgtcgaaag ctcaattttg tactgtattg ggtcatccta ttagtaaacc gatctggacc\\n     1081 gatttctcgg attctgatat tcttgatcga ttttgccgga tatgtagaaa tctttgtcgt\\n     1141 tatcacagcg gatcctcaaa aaaacaggtt ttgtatcgta taaaatatat acttcgactt\\n     1201 tcgtgtgcta gaactttggc acggaaacat aaaagtacag tacgcacttt tatgcgaaga\\n     1261 ttaggttcgg gattattaga agaattcttt atggaagaag aa\\n//\\n\\n'"
            ]
          },
          "metadata": {
            "tags": []
          },
          "execution_count": 70
        }
      ]
    }
  ]
}